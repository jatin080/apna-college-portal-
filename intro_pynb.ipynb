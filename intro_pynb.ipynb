{
  "nbformat": 4,
  "nbformat_minor": 0,
  "metadata": {
    "colab": {
      "provenance": [],
      "toc_visible": true,
      "gpuType": "T4",
      "authorship_tag": "ABX9TyMJ01ZaiLCJ+krcijVAfcVr",
      "include_colab_link": true
    },
    "kernelspec": {
      "name": "python3",
      "display_name": "Python 3"
    },
    "language_info": {
      "name": "python"
    },
    "accelerator": "GPU"
  },
  "cells": [
    {
      "cell_type": "markdown",
      "metadata": {
        "id": "view-in-github",
        "colab_type": "text"
      },
      "source": [
        "<a href=\"https://colab.research.google.com/github/jatin080/apna-college-portal-/blob/main/intro_pynb.ipynb\" target=\"_parent\"><img src=\"https://colab.research.google.com/assets/colab-badge.svg\" alt=\"Open In Colab\"/></a>"
      ]
    },
    {
      "cell_type": "code",
      "execution_count": null,
      "metadata": {
        "id": "gF2DZlarxNPt"
      },
      "outputs": [],
      "source": [
        "# list an its methods"
      ]
    },
    {
      "cell_type": "code",
      "source": [
        "# creating and printing the list\n",
        "friends = ['jayanrt','dinku','vanshika','shubham']\n",
        "print(friends)"
      ],
      "metadata": {
        "colab": {
          "base_uri": "https://localhost:8080/"
        },
        "id": "HeEJhDeByo2b",
        "outputId": "79720201-a88e-4909-d3da-bd07bd817efd"
      },
      "execution_count": null,
      "outputs": [
        {
          "output_type": "stream",
          "name": "stdout",
          "text": [
            "['jayanrt', 'dinku', 'vanshika', 'shubham']\n"
          ]
        }
      ]
    },
    {
      "cell_type": "code",
      "source": [
        "# performing diffrent methods on list\n",
        "# changing the item in the list\n",
        "\n",
        "friends = ['jayanrt','dinku','vanshika','shubham']\n",
        "friends[2] = 'bhumika'\n",
        "print(friends)"
      ],
      "metadata": {
        "colab": {
          "base_uri": "https://localhost:8080/"
        },
        "id": "bjYblH0KzZbL",
        "outputId": "058e96a1-f7cc-46b6-ee75-d526c121c286"
      },
      "execution_count": null,
      "outputs": [
        {
          "output_type": "stream",
          "name": "stdout",
          "text": [
            "['jayanrt', 'dinku', 'bhumika', 'shubham']\n"
          ]
        }
      ]
    },
    {
      "cell_type": "code",
      "source": [
        "# inserting the element in between the 2 items of the list\n",
        "friends = ['jayanrt','dinku','vanshika','shubham']\n",
        "friends.insert(2,'mohit')\n",
        "print(friends)"
      ],
      "metadata": {
        "colab": {
          "base_uri": "https://localhost:8080/"
        },
        "id": "m-d7nyYM15o9",
        "outputId": "5e0f12e2-49b7-4514-ac58-bb825089bc1f"
      },
      "execution_count": null,
      "outputs": [
        {
          "output_type": "stream",
          "name": "stdout",
          "text": [
            "['jayanrt', 'dinku', 'mohit', 'vanshika', 'shubham']\n"
          ]
        }
      ]
    },
    {
      "cell_type": "code",
      "source": [
        "# merginng 2 lists using the extend method\n",
        "friends = ['jayant','dinku','vanshika','shubham']\n",
        "friends2 = ['drishti','palak','bhumi','khushi']\n",
        "friends.extend(friends2)\n",
        "print(friends)"
      ],
      "metadata": {
        "colab": {
          "base_uri": "https://localhost:8080/"
        },
        "id": "JehXAmSK25bn",
        "outputId": "53669724-616c-44c2-8101-eecae421858b"
      },
      "execution_count": null,
      "outputs": [
        {
          "output_type": "stream",
          "name": "stdout",
          "text": [
            "['jayant', 'dinku', 'vanshika', 'shubham', 'drishti', 'palak', 'bhumi', 'khushi']\n"
          ]
        }
      ]
    },
    {
      "cell_type": "markdown",
      "source": [
        "# ***removing the list***"
      ],
      "metadata": {
        "id": "VzDICOWZ33hh"
      }
    },
    {
      "cell_type": "code",
      "source": [
        "# REMOVING THE SPECIFIC ELEMENT USING THE VALUE NAME\n",
        "friends = ['jayant','dinku','vanshika','shubham']\n",
        "friends.remove('vanshika')\n",
        "print(friends)"
      ],
      "metadata": {
        "colab": {
          "base_uri": "https://localhost:8080/"
        },
        "id": "wROT0GZf4dtg",
        "outputId": "cc510402-b90d-469a-c225-f0ade295d24a"
      },
      "execution_count": null,
      "outputs": [
        {
          "output_type": "stream",
          "name": "stdout",
          "text": [
            "['jayant', 'dinku', 'shubham']\n"
          ]
        }
      ]
    },
    {
      "cell_type": "code",
      "source": [
        "# REMOVING THE ELEMENT BY SPECIFIED INDEX\n",
        "friends = ['jayant','dinku','vanshika','shubham']\n",
        "friends.pop(3)\n",
        "print(friends)"
      ],
      "metadata": {
        "colab": {
          "base_uri": "https://localhost:8080/"
        },
        "id": "DTPPP9dS5QFJ",
        "outputId": "e11fda4f-096b-4b8f-d25f-c0478981767b"
      },
      "execution_count": null,
      "outputs": [
        {
          "output_type": "stream",
          "name": "stdout",
          "text": [
            "['jayant', 'dinku', 'vanshika']\n"
          ]
        }
      ]
    },
    {
      "cell_type": "code",
      "source": [
        "# REMOVING THE ELEMENT USING THE DEL KEYWORD\n",
        "friends = ['jayant','dinku','vanshika','shubham']\n",
        "del friends[0]\n",
        "print(friends)"
      ],
      "metadata": {
        "colab": {
          "base_uri": "https://localhost:8080/"
        },
        "id": "bCnHLypA6VRL",
        "outputId": "3dab4ce7-6831-4744-faf6-9ccdac5dfe11"
      },
      "execution_count": null,
      "outputs": [
        {
          "output_type": "stream",
          "name": "stdout",
          "text": [
            "['dinku', 'vanshika', 'shubham']\n"
          ]
        }
      ]
    },
    {
      "cell_type": "code",
      "source": [
        "# delete keyword can also delete the ful list\n",
        "friends = ['jayant','dinku','vanshika','shubham']\n",
        "del friends\n",
        "# print(friends)"
      ],
      "metadata": {
        "id": "RJkTjX2n61kv"
      },
      "execution_count": null,
      "outputs": []
    },
    {
      "cell_type": "code",
      "source": [
        "# clearing the list contents using the clear keyword\n",
        "friends = ['jayant','dinku','vanshika','shubham']\n",
        "friends.clear()\n",
        "print(friends)\n"
      ],
      "metadata": {
        "colab": {
          "base_uri": "https://localhost:8080/"
        },
        "id": "nBWeIZcj7KMF",
        "outputId": "e7e7093f-3dc1-4b82-f33e-deec8b3f0db2"
      },
      "execution_count": null,
      "outputs": [
        {
          "output_type": "stream",
          "name": "stdout",
          "text": [
            "[]\n"
          ]
        }
      ]
    },
    {
      "cell_type": "markdown",
      "source": [
        "# **sorting the lists :**\n"
      ],
      "metadata": {
        "id": "uKw9hfIS8gBA"
      }
    },
    {
      "cell_type": "code",
      "source": [
        "# sorting the list using the sort keyword\n",
        "friends = ['jayant','dinku','vanshika','shubham']\n",
        "friends.sort()\n",
        "print(friends)"
      ],
      "metadata": {
        "colab": {
          "base_uri": "https://localhost:8080/"
        },
        "id": "yMH32riTRtVx",
        "outputId": "65bd64f2-e9ac-4cc9-bae4-f518a8360208"
      },
      "execution_count": null,
      "outputs": [
        {
          "output_type": "stream",
          "name": "stdout",
          "text": [
            "['dinku', 'jayant', 'shubham', 'vanshika']\n"
          ]
        }
      ]
    },
    {
      "cell_type": "code",
      "source": [],
      "metadata": {
        "id": "_DkdIalhSNFr"
      },
      "execution_count": null,
      "outputs": []
    }
  ]
}